{
 "cells": [
  {
   "cell_type": "markdown",
   "metadata": {},
   "source": [
    "#  Introductions to constrainat-based modeling using cobrapy\n",
    "\n",
    "## Part 1: Basic Model Manipulations\n",
    "\n",
    "### Instructor:\n",
    "* Miguel Ponce de León from (Barcelona Supercomputing Center)\n",
    "* Contact: miguel.ponce@bsc.es\n",
    "\n",
    "11 December, 2020"
   ]
  },
  {
   "cell_type": "markdown",
   "metadata": {},
   "source": [
    "### Objective: \n",
    "\n",
    "To get familiar with COBRA library by creating a toy model from Kauffman et al (figure 1) and manipulating it.\n",
    "\n",
    "![title](img/toy_model.png)\n",
    "\n",
    "Figure 1. Toy model with three metabolites (A, B y C), four reactions\n",
    "(v1-v4) and three exchange fluxes (b1-b3). a) Model chart; b) Stoichiometric matrix\n",
    "\n",
    "### Let's create the model of figure to understand basic cobra objects"
   ]
  },
  {
   "cell_type": "code",
   "execution_count": 1,
   "metadata": {
    "ExecuteTime": {
     "end_time": "2022-11-23T11:46:25.005475Z",
     "start_time": "2022-11-23T11:46:12.257090Z"
    }
   },
   "outputs": [],
   "source": [
    "# Importing the required classes from core package\n",
    "import cobra\n",
    "\n",
    "from cobra.core import Model\n",
    "from cobra.core import Reaction\n",
    "from cobra.core import Metabolite"
   ]
  },
  {
   "cell_type": "code",
   "execution_count": 2,
   "metadata": {
    "ExecuteTime": {
     "end_time": "2022-11-23T11:52:56.630625Z",
     "start_time": "2022-11-23T11:52:56.596823Z"
    }
   },
   "outputs": [
    {
     "name": "stdout",
     "output_type": "stream",
     "text": [
      "We have created a model with ID: Toymodel\n",
      "List of model metabolites: []\n",
      "List of model reactions: []\n",
      "List of model genes: []\n"
     ]
    }
   ],
   "source": [
    "# Creating the model with id Toymodel\n",
    "toy_model = Model('Toymodel')\n",
    "toy_model.description = 'Just a toy model'\n",
    "print(\"We have created a model with ID:\", toy_model)\n",
    "print(\"List of model metabolites:\", toy_model.metabolites)\n",
    "print(\"List of model reactions:\", toy_model.reactions)\n",
    "print(\"List of model genes:\", toy_model.genes)"
   ]
  },
  {
   "cell_type": "code",
   "execution_count": 3,
   "metadata": {},
   "outputs": [],
   "source": [
    "# Creating two metabolites and set them a comparment\n",
    "A = Metabolite(\"A\", name=\"I'm A\", formula=\"CH4\")\n",
    "A.compartment = 'cytosol'\n",
    "B = Metabolite(\"B\", name=\"I'm B\", formula=\"H2O\")\n",
    "B.compartment = 'cytosol'"
   ]
  },
  {
   "cell_type": "code",
   "execution_count": 4,
   "metadata": {},
   "outputs": [],
   "source": [
    "######################\n",
    "# Create Metabolite C\n",
    "######################\n",
    "\n",
    "## TODO\n",
    "## Write your code below\n",
    "C = Metabolite(\"C\", name=\"I'm C\", formula=\"O2\")\n",
    "C.compartment = 'cytosol'"
   ]
  },
  {
   "cell_type": "code",
   "execution_count": 5,
   "metadata": {},
   "outputs": [
    {
     "name": "stdout",
     "output_type": "stream",
     "text": [
      "List of model metabolites:\n",
      "[<Metabolite A at 0x2bf53c74070>, <Metabolite B at 0x2bf53c75870>, <Metabolite C at 0x2bf6863d1e0>]\n"
     ]
    }
   ],
   "source": [
    "## Add the metabolites to the model\n",
    "toy_model.add_metabolites([A, B, C])\n",
    "print(\"List of model metabolites:\")\n",
    "print(toy_model.metabolites)"
   ]
  },
  {
   "cell_type": "code",
   "execution_count": 6,
   "metadata": {},
   "outputs": [
    {
     "name": "stdout",
     "output_type": "stream",
     "text": [
      "I'm A\n",
      "frozenset()\n"
     ]
    }
   ],
   "source": [
    "# We can access metabolties from the model\n",
    "A = toy_model.metabolites.A\n",
    "# This is the safer way to access metabolties\n",
    "A = toy_model.metabolites.get_by_id(\"A\")\n",
    "# Print the reactions of a given metabolite\n",
    "print(A.name)\n",
    "# Print the reactions of a given metabolite\n",
    "print(A.reactions)\n",
    "# We get an empty set because we haven't created any reaction yet"
   ]
  },
  {
   "cell_type": "code",
   "execution_count": 7,
   "metadata": {},
   "outputs": [],
   "source": [
    "# Creating the reactions b1, b2 ... v3\n",
    "\n",
    "# Create reaction with id b1\n",
    "b1 = Reaction(\"b1\")\n",
    "\n",
    "# To add metabolites to the reactions we need to pass\n",
    "# a dictionary with metabolites as keys\n",
    "# and the stoichiometric coefficients as values\n",
    "b1.add_metabolites({A: 1})\n",
    "b1.lower_bound = 0\n",
    "b1.upper_bound = 10\n",
    "\n",
    "# The same is done for the other reactions\n",
    "b2 = Reaction(\"b2\")\n",
    "# Metabolites are added to the reaction by passing a dictionary:\n",
    "# {metabolite_1: stoich_coef_1, ... , metabolite_n: stoich_coef_n}\n",
    "b2.add_metabolites({B: -1})\n",
    "b2.lower_bound = 0\n",
    "b2.upper_bound = 10\n",
    "\n",
    "\n",
    "b3 = Reaction(\"b3\")\n",
    "b3.add_metabolites({C: -1})\n",
    "# instead of seting bounds as b3.lower_bound = 0 / b3.upper_bound = 10\n",
    "# you can also set bounds as a tuple\n",
    "b3.bounds = (0, 10)\n",
    "\n",
    "v1 = Reaction(\"v1\")\n",
    "v1.add_metabolites({A:-1, B:1})\n",
    "v1.gene_reaction_rule = \"G1\"\n",
    "v1.bounds = (0, 10)\n",
    "\n",
    "v2 = Reaction(\"v2\")\n",
    "v2.add_metabolites({A:-1, C:1})\n",
    "v2.gene_reaction_rule = \"G1 and G2\"\n",
    "v2.bounds = (0, 10)\n",
    "\n",
    "v3 = Reaction(\"v3\")\n",
    "v3.add_metabolites({A:1, C:-1})\n",
    "v3.gene_reaction_rule = \"G3\"\n",
    "v3.bounds = (0, 10)"
   ]
  },
  {
   "cell_type": "code",
   "execution_count": 9,
   "metadata": {},
   "outputs": [],
   "source": [
    "########################\n",
    "# Create reactions v4\n",
    "########################\n",
    "\n",
    "## TODO\n",
    "## Write your code below\n",
    "# Set the gene_reaction_rule as \"G3\"\n",
    "v4 = Reaction('v4')\n",
    "v4.add_metabolites({C:-1, B:1})\n",
    "v4.gene_reaction_rule = \"G3\"\n",
    "v4.bounds = (0, 10)"
   ]
  },
  {
   "cell_type": "code",
   "execution_count": 13,
   "metadata": {},
   "outputs": [
    {
     "name": "stderr",
     "output_type": "stream",
     "text": [
      "Ignoring reaction 'b1' since it already exists.\n",
      "Ignoring reaction 'b2' since it already exists.\n",
      "Ignoring reaction 'b3' since it already exists.\n",
      "Ignoring reaction 'v1' since it already exists.\n",
      "Ignoring reaction 'v2' since it already exists.\n",
      "Ignoring reaction 'v3' since it already exists.\n",
      "Ignoring reaction 'v4' since it already exists.\n"
     ]
    },
    {
     "name": "stdout",
     "output_type": "stream",
     "text": [
      "We have created a model with ID: Toymodel\n",
      "List of model metabolites:\n",
      " - A\n",
      " - B\n",
      " - C\n",
      "List of model reactions:\n",
      " - b1\n",
      "     GPR: \n",
      "     reaction:  --> A\n",
      "     Bounds:  (0, 10)\n",
      "     Is reversible:  False\n",
      "     Objective coefficient:  0.0\n",
      " - b2\n",
      "     GPR: \n",
      "     reaction: B --> \n",
      "     Bounds:  (0, 10)\n",
      "     Is reversible:  False\n",
      "     Objective coefficient:  0.0\n",
      " - b3\n",
      "     GPR: \n",
      "     reaction: C --> \n",
      "     Bounds:  (0, 10)\n",
      "     Is reversible:  False\n",
      "     Objective coefficient:  0.0\n",
      " - v1\n",
      "     GPR: G1\n",
      "     reaction: A --> B\n",
      "     Bounds:  (0, 10)\n",
      "     Is reversible:  False\n",
      "     Objective coefficient:  0.0\n",
      " - v2\n",
      "     GPR: G1 and G2\n",
      "     reaction: A --> C\n",
      "     Bounds:  (0, 10)\n",
      "     Is reversible:  False\n",
      "     Objective coefficient:  0.0\n",
      " - v3\n",
      "     GPR: G3\n",
      "     reaction: C --> A\n",
      "     Bounds:  (0, 10)\n",
      "     Is reversible:  False\n",
      "     Objective coefficient:  0.0\n",
      " - v4\n",
      "     GPR: G3\n",
      "     reaction: C --> B\n",
      "     Bounds:  (0, 10)\n",
      "     Is reversible:  False\n",
      "     Objective coefficient:  0.0\n",
      "List of model genes:\n",
      " - G1\n",
      " - G2\n",
      " - G3\n"
     ]
    }
   ],
   "source": [
    "# Adding the reactions to the toy model\n",
    "toy_model.add_reactions([b1,b2,b3,v1,v2,v3,v4])\n",
    "\n",
    "print(\"We have created a model with ID:\", toy_model)\n",
    "\n",
    "print(\"List of model metabolites:\")\n",
    "for m in toy_model.metabolites:\n",
    "    print(\" - \" + m.id)\n",
    "\n",
    "print(\"List of model reactions:\")\n",
    "for r in toy_model.reactions:\n",
    "    print(\" - \" + r.id)\n",
    "    print(\"     GPR:\", r.gene_reaction_rule)\n",
    "    print(\"     reaction:\", r.reaction)\n",
    "    print(\"     Bounds: \", r.bounds)\n",
    "    print(\"     Is reversible: \", r.reversibility)\n",
    "    print(\"     Objective coefficient: \", r.objective_coefficient)\n",
    "\n",
    "print(\"List of model genes:\")\n",
    "for g in toy_model.genes:\n",
    "    print(\" - \" + g.id)\n"
   ]
  },
  {
   "cell_type": "code",
   "execution_count": 16,
   "metadata": {},
   "outputs": [
    {
     "name": "stdout",
     "output_type": "stream",
     "text": [
      "A b1 1\n",
      "A b2 0\n",
      "A b3 0\n",
      "A v1 -1\n",
      "A v2 -1\n",
      "A v3 1\n",
      "A v4 0\n",
      "\n",
      "B b1 0\n",
      "B b2 -1\n",
      "B b3 0\n",
      "B v1 1\n",
      "B v2 0\n",
      "B v3 0\n",
      "B v4 1\n",
      "\n",
      "C b1 0\n",
      "C b2 0\n",
      "C b3 -1\n",
      "C v1 0\n",
      "C v2 1\n",
      "C v3 -1\n",
      "C v4 -1\n"
     ]
    }
   ],
   "source": [
    "# print the balance equations of a metabolite\n",
    "\n",
    "A = toy_model.metabolites.A\n",
    "\n",
    "for r in toy_model.reactions:\n",
    "    if A not in r.metabolites:\n",
    "        stoich = 0\n",
    "    else:\n",
    "        stoich = r.get_coefficient(A)\n",
    "    print(A.id, r.id, stoich)\n",
    "\n",
    "\n",
    "################################\n",
    "# print stoichiometirc matrix\n",
    "################################\n",
    "    \n",
    "## TODO    \n",
    "## write \n",
    "print()\n",
    "B = toy_model.metabolites.B\n",
    "\n",
    "for r in toy_model.reactions:\n",
    "    if B not in r.metabolites:\n",
    "        stoich = 0\n",
    "    else:\n",
    "        stoich = r.get_coefficient(B)\n",
    "    print(B.id, r.id, stoich)\n",
    "\n",
    "print()\n",
    "C = toy_model.metabolites.C\n",
    "\n",
    "for r in toy_model.reactions:\n",
    "    if C not in r.metabolites:\n",
    "        stoich = 0\n",
    "    else:\n",
    "        stoich = r.get_coefficient(C)\n",
    "    print(C.id, r.id, stoich)"
   ]
  },
  {
   "cell_type": "code",
   "execution_count": null,
   "metadata": {},
   "outputs": [],
   "source": []
  }
 ],
 "metadata": {
  "kernelspec": {
   "display_name": "cobra",
   "language": "python",
   "name": "python3"
  },
  "language_info": {
   "codemirror_mode": {
    "name": "ipython",
    "version": 3
   },
   "file_extension": ".py",
   "mimetype": "text/x-python",
   "name": "python",
   "nbconvert_exporter": "python",
   "pygments_lexer": "ipython3",
   "version": "3.10.5"
  }
 },
 "nbformat": 4,
 "nbformat_minor": 4
}
