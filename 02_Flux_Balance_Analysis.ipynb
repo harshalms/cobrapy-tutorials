{
 "cells": [
  {
   "cell_type": "markdown",
   "metadata": {},
   "source": [
    "#  Introductions to constrainat-based modeling using cobrapy\n",
    "\n",
    "## Part 2: Flux Balance Analysis\n",
    "\n",
    "### Instructor:\n",
    "* Miguel Ponce de León from (Barcelona Supercomputing Center)\n",
    "* Contact: miguel.ponce@bsc.es\n",
    "\n",
    "11 December, 2020"
   ]
  },
  {
   "cell_type": "markdown",
   "metadata": {},
   "source": [
    "# Part 2: Genome-scale modelling.\n",
    "\n",
    "In this part we are gonna use a genome-scale metabolic model of Escherichia coli named iJO1366\n",
    "The file has already been stored in the data folder and its path is data/iJO1366.xml\n",
    "\n",
    "Alternatively, you can also access it here:\n",
    "- [http://bigg.ucsd.edu/models/iJO1366](http://bigg.ucsd.edu/models/iJO1366)\n",
    "\n",
    "to download the model and to see other metadata (citation, description, etc)\n",
    "\n",
    "## Part 2.1: Studying the model.\n",
    "\n",
    "### Read the SBML model\n",
    "\n",
    "First we need to import the function read_sbml_model from the cobra.io modules"
   ]
  },
  {
   "cell_type": "code",
   "execution_count": 32,
   "metadata": {
    "ExecuteTime": {
     "end_time": "2022-11-23T12:25:40.321603Z",
     "start_time": "2022-11-23T12:25:38.494245Z"
    }
   },
   "outputs": [],
   "source": [
    "import cobra\n",
    "from cobra.io import read_sbml_model\n",
    "\n",
    "# State the path to the file iJO1366.xml\n",
    "sbml_fname = './data/iJO1366.xml'\n",
    "\n",
    "# Read the model\n",
    "model = read_sbml_model(sbml_fname)"
   ]
  },
  {
   "cell_type": "markdown",
   "metadata": {
    "collapsed": true
   },
   "source": [
    "## Exercise 2.1: Inspecting the model's numbers\n",
    "\n",
    "How many metabolites genes and reactions are contained in the model?"
   ]
  },
  {
   "cell_type": "code",
   "execution_count": 33,
   "metadata": {},
   "outputs": [
    {
     "name": "stdout",
     "output_type": "stream",
     "text": [
      "Total reactions:  2583\n",
      "Total number of metabolites:  1805\n",
      "Total number of genes:  1367\n"
     ]
    }
   ],
   "source": [
    "## TODO\n",
    "## Write your code below\n",
    "print('Total reactions: ', len(model.reactions))\n",
    "print('Total number of metabolites: ', len(model.metabolites))\n",
    "print('Total number of genes: ', len(model.genes))\n"
   ]
  },
  {
   "cell_type": "code",
   "execution_count": 34,
   "metadata": {},
   "outputs": [
    {
     "name": "stdout",
     "output_type": "stream",
     "text": [
      "gene name:  b0720\n",
      "gene id:  b0720\n",
      "gene reaction:  frozenset({<Reaction CS at 0x1b12c96f580>})\n"
     ]
    }
   ],
   "source": [
    "# Inspecting the genes\n",
    "# 1. Access a particular reaction:\n",
    "#    * You can do it directly with: gene = model.genes.b0720\n",
    "#    * Or you can use the function get_by_id: gene = model.genes.get_by_id('b0720')\n",
    "\n",
    "b0720 = model.genes.b0720\n",
    "\n",
    "b0722 = model.genes.get_by_id('b0722')\n",
    "\n",
    "# 6. Inspect the reaction by printing:\n",
    "#    1. gene.name\n",
    "#    2. gene.id\n",
    "#    3. gene.reactions\n",
    "\n",
    "print('gene name: ', b0720.name)\n",
    "print('gene id: ', b0720.id)\n",
    "print('gene reaction: ', b0720.reactions)"
   ]
  },
  {
   "cell_type": "markdown",
   "metadata": {},
   "source": [
    "### Inspecting the systems' boundaries\n",
    "\n",
    "* see the exchange fluxes\n",
    "* see the objective function (the reaction set to be optimized)\n",
    "\n",
    "Use print(model.summary())\n",
    "\n",
    "You can also find the objective function using the following filtering technique:\n",
    "* [r for r in model.reactions if r.objective_coefficient == 1]\n",
    "* the reaction id of the biomass is Ec_biomass_iJO1366_WT_53p95M\n",
    "and the exchange fluxes can be accessed using:\n",
    "* model.boundary"
   ]
  },
  {
   "cell_type": "code",
   "execution_count": 35,
   "metadata": {},
   "outputs": [
    {
     "name": "stdout",
     "output_type": "stream",
     "text": [
      "DM_4CRSOL: 4crsol_c --> \n",
      "<class 'list'>\n"
     ]
    },
    {
     "data": {
      "text/html": [
       "\n",
       "        <table>\n",
       "            <tr>\n",
       "                <td><strong>Reaction identifier</strong></td><td>Ec_biomass_iJO1366_WT_53p95M</td>\n",
       "            </tr><tr>\n",
       "                <td><strong>Name</strong></td><td>E. coli biomass objective function (iJO1366) - WT - with 53.95 GAM estimate</td>\n",
       "            </tr><tr>\n",
       "                <td><strong>Memory address</strong></td>\n",
       "                <td>0x1b12b6351b0</td>\n",
       "            </tr><tr>\n",
       "                <td><strong>Stoichiometry</strong></td>\n",
       "                <td>\n",
       "                    <p style='text-align:right'>0.000223 10fthf_c + 0.000223 2dmmql8_c + 2.5e-05 2fe2s_c + 0.000248 4fe4s_c + 0.000223 5mthf_c + 0.000279 accoa_c + 0.000223 adocbl_c + 0.499149 ala_L_c + 0.000223 amet_c + 0.28742 arg_L_c +...</p>\n",
       "                    <p style='text-align:right'>0.000223 10-Formyltetrahydrofolate + 0.000223 2-Demethylmenaquinol 8 + 2.5e-05 [2Fe-2S] iron-sulfur cluster + 0.000248 [4Fe-4S] iron-sulfur cluster + 0.000223 5-Methyltetrahydrofolate + 0.000279...</p>\n",
       "                </td>\n",
       "            </tr><tr>\n",
       "                <td><strong>GPR</strong></td><td></td>\n",
       "            </tr><tr>\n",
       "                <td><strong>Lower bound</strong></td><td>0.0</td>\n",
       "            </tr><tr>\n",
       "                <td><strong>Upper bound</strong></td><td>1000.0</td>\n",
       "            </tr>\n",
       "        </table>\n",
       "        "
      ],
      "text/plain": [
       "<Reaction Ec_biomass_iJO1366_WT_53p95M at 0x1b12b6351b0>"
      ]
     },
     "execution_count": 35,
     "metadata": {},
     "output_type": "execute_result"
    }
   ],
   "source": [
    "## TODO\n",
    "## Write your code below\n",
    "# print(model.summary()) --> gives objective    Uptake      secretion\n",
    "print(model.boundary[0]) # gives boundary reactions\n",
    "\n",
    "objective_functions = [r for r in model.reactions if r.objective_coefficient == 1]\n",
    "print(type(objective_functions))\n",
    "objective_functions[0]"
   ]
  },
  {
   "cell_type": "markdown",
   "metadata": {},
   "source": [
    "### Running a Flux Balance Analysis (FBA).\n",
    "\n",
    "Documentation: [https://cobrapy.readthedocs.io/en/latest/simulating.html](https://cobrapy.readthedocs.io/en/latest/simulating.html)\n",
    "\n",
    "By default, the model boundary condition (growth medium) is M9 aerobic (glucose minimal)\n",
    "\n",
    "1.  Check the medium by inspecting the lower_bound of the following reactions:\n",
    "  * EX\\_glc\\_e\\_.lower_bound\n",
    "  * EX\\_o2\\_e\\_.lower_bound\n",
    "2.  Optimize biomass using: \n",
    "  * solution = model.optimize()\n",
    "  \n",
    "3.  Inspect the solution as we did previously in Part 1.2 Optimization.\n",
    "\n"
   ]
  },
  {
   "cell_type": "code",
   "execution_count": 36,
   "metadata": {},
   "outputs": [
    {
     "data": {
      "text/html": [
       "\n",
       "        <table>\n",
       "            <tr>\n",
       "                <td><strong>Reaction identifier</strong></td><td>EX_glc_e_</td>\n",
       "            </tr><tr>\n",
       "                <td><strong>Name</strong></td><td>D-Glucose exchange</td>\n",
       "            </tr><tr>\n",
       "                <td><strong>Memory address</strong></td>\n",
       "                <td>0x1b12b6beaa0</td>\n",
       "            </tr><tr>\n",
       "                <td><strong>Stoichiometry</strong></td>\n",
       "                <td>\n",
       "                    <p style='text-align:right'>glc_D_e <=></p>\n",
       "                    <p style='text-align:right'>D-Glucose <=></p>\n",
       "                </td>\n",
       "            </tr><tr>\n",
       "                <td><strong>GPR</strong></td><td></td>\n",
       "            </tr><tr>\n",
       "                <td><strong>Lower bound</strong></td><td>-10.0</td>\n",
       "            </tr><tr>\n",
       "                <td><strong>Upper bound</strong></td><td>1000.0</td>\n",
       "            </tr>\n",
       "        </table>\n",
       "        "
      ],
      "text/plain": [
       "<Reaction EX_glc_e_ at 0x1b12b6beaa0>"
      ]
     },
     "execution_count": 36,
     "metadata": {},
     "output_type": "execute_result"
    }
   ],
   "source": [
    "(model.reactions.EX_glc_e_)\n"
   ]
  },
  {
   "cell_type": "code",
   "execution_count": 37,
   "metadata": {},
   "outputs": [
    {
     "data": {
      "text/html": [
       "\n",
       "        <table>\n",
       "            <tr>\n",
       "                <td><strong>Reaction identifier</strong></td><td>EX_o2_e_</td>\n",
       "            </tr><tr>\n",
       "                <td><strong>Name</strong></td><td>O2 exchange</td>\n",
       "            </tr><tr>\n",
       "                <td><strong>Memory address</strong></td>\n",
       "                <td>0x1b12b6dace0</td>\n",
       "            </tr><tr>\n",
       "                <td><strong>Stoichiometry</strong></td>\n",
       "                <td>\n",
       "                    <p style='text-align:right'>o2_e <=></p>\n",
       "                    <p style='text-align:right'>O2 <=></p>\n",
       "                </td>\n",
       "            </tr><tr>\n",
       "                <td><strong>GPR</strong></td><td></td>\n",
       "            </tr><tr>\n",
       "                <td><strong>Lower bound</strong></td><td>-1000.0</td>\n",
       "            </tr><tr>\n",
       "                <td><strong>Upper bound</strong></td><td>1000.0</td>\n",
       "            </tr>\n",
       "        </table>\n",
       "        "
      ],
      "text/plain": [
       "<Reaction EX_o2_e_ at 0x1b12b6dace0>"
      ]
     },
     "execution_count": 37,
     "metadata": {},
     "output_type": "execute_result"
    }
   ],
   "source": [
    "(model.reactions.EX_o2_e_)"
   ]
  },
  {
   "cell_type": "code",
   "execution_count": 38,
   "metadata": {},
   "outputs": [
    {
     "name": "stdout",
     "output_type": "stream",
     "text": [
      "Objective value: 0.96\n",
      "\n",
      "Status: optimal\n",
      "\n",
      "Fluxes:\n",
      "\n",
      "DM_4CRSOL    0.000215\n",
      "DM_5DRIB     0.000223\n",
      "DM_AACALD    0.000000\n",
      "DM_AMOB      0.000002\n",
      "DM_MTHTHF    0.001293\n",
      "               ...   \n",
      "ZN2abcpp     0.000000\n",
      "ZN2t3pp      0.000000\n",
      "ZN2tpp       0.000313\n",
      "ZNabcpp      0.000000\n",
      "Zn2tex       0.000313\n",
      "Name: fluxes, Length: 2583, dtype: float64\n"
     ]
    }
   ],
   "source": [
    "solution = model.optimize()\n",
    "\n",
    "print(\"Objective value: %.2f\\n\" % solution.objective_value)\n",
    "print(\"Status: %s\\n\" % solution.status)\n",
    "\n",
    "print(\"Fluxes:\\n\")\n",
    "print(solution.fluxes)\n",
    "\n",
    "# Converting the solution into a pandas dataframe\n",
    "df = solution.to_frame()\n",
    "# Saving the solution into tab-separed-value (tsv) format (plain text)\n",
    "df.to_csv(\"out/iJO1366_fba.tsv\", sep=\"\\t\")"
   ]
  },
  {
   "cell_type": "markdown",
   "metadata": {},
   "source": [
    "Inspect the flux value of the following reactions\n",
    "* The glucose consumption: EX_glc_e_\n",
    "* The oxygen consumption: EX_o2_e_\n",
    "* The growth rate: Ec_biomass_iJO1366_WT_53p95M\n",
    "\n",
    "HINT 1: use the solution object -> solution.fluxes.reaction_id <br>\n",
    "HINT 2: use model.summary()"
   ]
  },
  {
   "cell_type": "code",
   "execution_count": 39,
   "metadata": {},
   "outputs": [
    {
     "name": "stdout",
     "output_type": "stream",
     "text": [
      "glucose consumption:  -10.0\n",
      "oxygen consumption:  -18.58848899696878\n",
      "growth rate:  0.9646474389187335\n",
      "Objective\n",
      "=========\n",
      "1.0 Ec_biomass_iJO1366_WT_53p95M = 0.9646474389457608\n",
      "\n",
      "Uptake\n",
      "------\n",
      "Metabolite      Reaction      Flux  C-Number C-Flux\n",
      "     ca2_e     EX_ca2_e_  0.004777         0  0.00%\n",
      "    cbl1_e    EX_cbl1_e_ 0.0002151        62  0.02%\n",
      "      cl_e      EX_cl_e_  0.004777         0  0.00%\n",
      " cobalt2_e EX_cobalt2_e_ 2.315E-05         0  0.00%\n",
      "     cu2_e     EX_cu2_e_ 0.0006502         0  0.00%\n",
      "     fe2_e     EX_fe2_e_   0.01498         0  0.00%\n",
      "   glc_D_e     EX_glc_e_        10         6 99.98%\n",
      "       k_e       EX_k_e_    0.1791         0  0.00%\n",
      "     mg2_e     EX_mg2_e_  0.007961         0  0.00%\n",
      "     mn2_e     EX_mn2_e_ 0.0006347         0  0.00%\n",
      "    mobd_e    EX_mobd_e_ 0.0001322         0  0.00%\n",
      "     nh4_e     EX_nh4_e_     10.13         0  0.00%\n",
      "     ni2_e     EX_ni2_e_ 0.0002961         0  0.00%\n",
      "      o2_e      EX_o2_e_     18.59         0  0.00%\n",
      "      pi_e      EX_pi_e_    0.8944         0  0.00%\n",
      "     so4_e     EX_so4_e_    0.2431         0  0.00%\n",
      "     zn2_e     EX_zn2_e_ 0.0003125         0  0.00%\n",
      "\n",
      "Secretion\n",
      "---------\n",
      "Metabolite   Reaction       Flux  C-Number C-Flux\n",
      "  4crsol_c  DM_4CRSOL -0.0002151         7  0.01%\n",
      "   5drib_c   DM_5DRIB -0.0002228         5  0.01%\n",
      "    amob_c    DM_AMOB -1.929E-06        15  0.00%\n",
      "  mththf_c  DM_MTHTHF  -0.001293         5  0.03%\n",
      "    5mtr_e EX_5mtr_e_  -0.006506         6  0.19%\n",
      "     co2_e  EX_co2_e_     -20.55         1 99.77%\n",
      "     h2o_e  EX_h2o_e_     -45.43         0  0.00%\n",
      "       h_e    EX_h_e_     -8.559         0  0.00%\n",
      "    meoh_e EX_meoh_e_ -1.929E-06         1  0.00%\n",
      "\n"
     ]
    }
   ],
   "source": [
    "## TODO\n",
    "## Write your code below\n",
    "print('glucose consumption: ', solution.fluxes.EX_glc_e_)\n",
    "print('oxygen consumption: ', solution.fluxes.EX_o2_e_)\n",
    "# How to inspect the growth rate of Ec_biomass_iJO1366_WT_53p95M\n",
    "print('growth rate: ', solution.objective_value)\n",
    "print(model.summary())"
   ]
  },
  {
   "cell_type": "markdown",
   "metadata": {},
   "source": [
    "## Exercise 2.2: \n",
    "\n",
    "1. Change the oxygen exchange lower bound to zero to simulate anaerobic growth.\n",
    "2. Optimize the model\n",
    "3. What is the maximal growth rate in anaerobic conditions\n",
    "4. what are the main three secretion products?"
   ]
  },
  {
   "cell_type": "code",
   "execution_count": 41,
   "metadata": {},
   "outputs": [
    {
     "name": "stdout",
     "output_type": "stream",
     "text": [
      "Objective value: 0.18\n",
      "\n",
      "Status: optimal\n",
      "\n",
      "Objective\n",
      "=========\n",
      "1.0 Ec_biomass_iJO1366_WT_53p95M = 0.18399435353841975\n",
      "\n",
      "Uptake\n",
      "------\n",
      "Metabolite      Reaction      Flux  C-Number C-Flux\n",
      "     ca2_e     EX_ca2_e_ 0.0009111         0  0.00%\n",
      "    cbl1_e    EX_cbl1_e_ 4.103E-05        62  0.00%\n",
      "      cl_e      EX_cl_e_ 0.0009111         0  0.00%\n",
      "     co2_e     EX_co2_e_    0.0633         1  0.11%\n",
      " cobalt2_e EX_cobalt2_e_ 4.416E-06         0  0.00%\n",
      "     cu2_e     EX_cu2_e_  0.000124         0  0.00%\n",
      "     fe2_e     EX_fe2_e_   0.00149         0  0.00%\n",
      "     fe3_e     EX_fe3_e_  0.001367         0  0.00%\n",
      "   glc_D_e     EX_glc_e_        10         6 99.89%\n",
      "     h2o_e     EX_h2o_e_     3.805         0  0.00%\n",
      "       k_e       EX_k_e_   0.03417         0  0.00%\n",
      "     mg2_e     EX_mg2_e_  0.001519         0  0.00%\n",
      "     mn2_e     EX_mn2_e_ 0.0001211         0  0.00%\n",
      "    mobd_e    EX_mobd_e_ 2.521E-05         0  0.00%\n",
      "     nh4_e     EX_nh4_e_     1.933         0  0.00%\n",
      "     ni2_e     EX_ni2_e_ 5.649E-05         0  0.00%\n",
      "      pi_e      EX_pi_e_    0.1706         0  0.00%\n",
      "     so4_e     EX_so4_e_   0.04636         0  0.00%\n",
      "     zn2_e     EX_zn2_e_ 5.961E-05         0  0.00%\n",
      "\n",
      "Secretion\n",
      "---------\n",
      "Metabolite     Reaction       Flux  C-Number C-Flux\n",
      "  4crsol_c    DM_4CRSOL -4.103E-05         7  0.00%\n",
      "   5drib_c     DM_5DRIB -0.0002066         5  0.00%\n",
      "    amob_c      DM_AMOB  -3.68E-07        15  0.00%\n",
      "  mththf_c    DM_MTHTHF -0.0002466         5  0.00%\n",
      "    5mtr_e   EX_5mtr_e_  -0.001241         6  0.01%\n",
      "      ac_e     EX_ac_e_     -8.652         2 32.93%\n",
      "    etoh_e   EX_etoh_e_     -8.545         2 32.52%\n",
      "     for_e    EX_for_e_     -17.91         1 34.08%\n",
      "  glyclt_e EX_glyclt_e_ -0.0001641         2  0.00%\n",
      "       h_e      EX_h_e_     -28.31         0  0.00%\n",
      "    meoh_e   EX_meoh_e_  -3.68E-07         1  0.00%\n",
      "    succ_e   EX_succ_e_   -0.05917         4  0.45%\n",
      "\n"
     ]
    }
   ],
   "source": [
    "## TODO\n",
    "## Write your code below\n",
    "model.reactions.EX_o2_e_.lower_bound = 0\n",
    "solution = model.optimize()\n",
    "print(\"Objective value: %.2f\\n\" % solution.objective_value)\n",
    "print(\"Status: %s\\n\" % solution.status)\n",
    "# print(model.summary())\n",
    "\n"
   ]
  },
  {
   "cell_type": "code",
   "execution_count": 61,
   "metadata": {},
   "outputs": [
    {
     "name": "stdout",
     "output_type": "stream",
     "text": [
      "type(model.summary().secretion_flux -->  <class 'pandas.core.frame.DataFrame'>\n"
     ]
    },
    {
     "data": {
      "text/html": [
       "<div>\n",
       "<style scoped>\n",
       "    .dataframe tbody tr th:only-of-type {\n",
       "        vertical-align: middle;\n",
       "    }\n",
       "\n",
       "    .dataframe tbody tr th {\n",
       "        vertical-align: top;\n",
       "    }\n",
       "\n",
       "    .dataframe thead th {\n",
       "        text-align: right;\n",
       "    }\n",
       "</style>\n",
       "<table border=\"1\" class=\"dataframe\">\n",
       "  <thead>\n",
       "    <tr style=\"text-align: right;\">\n",
       "      <th></th>\n",
       "      <th>flux</th>\n",
       "      <th>reaction</th>\n",
       "      <th>metabolite</th>\n",
       "    </tr>\n",
       "  </thead>\n",
       "  <tbody>\n",
       "    <tr>\n",
       "      <th>DM_4CRSOL</th>\n",
       "      <td>-4.103074e-05</td>\n",
       "      <td>DM_4CRSOL</td>\n",
       "      <td>4crsol_c</td>\n",
       "    </tr>\n",
       "    <tr>\n",
       "      <th>DM_5DRIB</th>\n",
       "      <td>-2.066257e-04</td>\n",
       "      <td>DM_5DRIB</td>\n",
       "      <td>5drib_c</td>\n",
       "    </tr>\n",
       "    <tr>\n",
       "      <th>DM_AACALD</th>\n",
       "      <td>0.000000e+00</td>\n",
       "      <td>DM_AACALD</td>\n",
       "      <td>aacald_c</td>\n",
       "    </tr>\n",
       "    <tr>\n",
       "      <th>DM_AMOB</th>\n",
       "      <td>-3.679887e-07</td>\n",
       "      <td>DM_AMOB</td>\n",
       "      <td>amob_c</td>\n",
       "    </tr>\n",
       "    <tr>\n",
       "      <th>DM_MTHTHF</th>\n",
       "      <td>-2.465524e-04</td>\n",
       "      <td>DM_MTHTHF</td>\n",
       "      <td>mththf_c</td>\n",
       "    </tr>\n",
       "    <tr>\n",
       "      <th>...</th>\n",
       "      <td>...</td>\n",
       "      <td>...</td>\n",
       "      <td>...</td>\n",
       "    </tr>\n",
       "    <tr>\n",
       "      <th>EX_xan_e_</th>\n",
       "      <td>0.000000e+00</td>\n",
       "      <td>EX_xan_e_</td>\n",
       "      <td>xan_e</td>\n",
       "    </tr>\n",
       "    <tr>\n",
       "      <th>EX_xmp_e_</th>\n",
       "      <td>0.000000e+00</td>\n",
       "      <td>EX_xmp_e_</td>\n",
       "      <td>xmp_e</td>\n",
       "    </tr>\n",
       "    <tr>\n",
       "      <th>EX_xtsn_e_</th>\n",
       "      <td>0.000000e+00</td>\n",
       "      <td>EX_xtsn_e_</td>\n",
       "      <td>xtsn_e</td>\n",
       "    </tr>\n",
       "    <tr>\n",
       "      <th>EX_xyl_D_e_</th>\n",
       "      <td>0.000000e+00</td>\n",
       "      <td>EX_xyl_D_e_</td>\n",
       "      <td>xyl_D_e</td>\n",
       "    </tr>\n",
       "    <tr>\n",
       "      <th>EX_xylu_L_e_</th>\n",
       "      <td>0.000000e+00</td>\n",
       "      <td>EX_xylu_L_e_</td>\n",
       "      <td>xylu_L_e</td>\n",
       "    </tr>\n",
       "  </tbody>\n",
       "</table>\n",
       "<p>311 rows × 3 columns</p>\n",
       "</div>"
      ],
      "text/plain": [
       "                      flux      reaction metabolite\n",
       "DM_4CRSOL    -4.103074e-05     DM_4CRSOL   4crsol_c\n",
       "DM_5DRIB     -2.066257e-04      DM_5DRIB    5drib_c\n",
       "DM_AACALD     0.000000e+00     DM_AACALD   aacald_c\n",
       "DM_AMOB      -3.679887e-07       DM_AMOB     amob_c\n",
       "DM_MTHTHF    -2.465524e-04     DM_MTHTHF   mththf_c\n",
       "...                    ...           ...        ...\n",
       "EX_xan_e_     0.000000e+00     EX_xan_e_      xan_e\n",
       "EX_xmp_e_     0.000000e+00     EX_xmp_e_      xmp_e\n",
       "EX_xtsn_e_    0.000000e+00    EX_xtsn_e_     xtsn_e\n",
       "EX_xyl_D_e_   0.000000e+00   EX_xyl_D_e_    xyl_D_e\n",
       "EX_xylu_L_e_  0.000000e+00  EX_xylu_L_e_   xylu_L_e\n",
       "\n",
       "[311 rows x 3 columns]"
      ]
     },
     "execution_count": 61,
     "metadata": {},
     "output_type": "execute_result"
    }
   ],
   "source": [
    "(model.summary().uptake_flux)\n",
    "model.summary()._objective_value\n",
    "print('type(model.summary().secretion_flux --> ', type(model.summary().secretion_flux))\n",
    "model.summary().secretion_flux"
   ]
  },
  {
   "cell_type": "code",
   "execution_count": 30,
   "metadata": {},
   "outputs": [
    {
     "data": {
      "text/plain": [
       "'optimal'"
      ]
     },
     "execution_count": 30,
     "metadata": {},
     "output_type": "execute_result"
    }
   ],
   "source": []
  },
  {
   "cell_type": "markdown",
   "metadata": {},
   "source": [
    "## Exercise 2.3: \n",
    "\n",
    "1. Set the oxygen exchange lower bound to -20\n",
    "2. Set the glucose exchange flux (EX_glc_D_e_ lower bound to 0)\n",
    "3. Set the glucose exchange flux (EX_ac_e_ lower bound to -10)\n",
    "\n",
    "What is the maximal growth rate using acetate as soley carbon source\n",
    "what is the oxygen uptake rate?"
   ]
  },
  {
   "cell_type": "code",
   "execution_count": 63,
   "metadata": {},
   "outputs": [
    {
     "name": "stdout",
     "output_type": "stream",
     "text": [
      "growth rate:  0.9646474389457961\n"
     ]
    }
   ],
   "source": [
    "## TODO\n",
    "## Write your code below\n",
    "model.reactions.EX_o2_e_.lower_bound = -20\n",
    "model.reactions.EX_glc_D_e_lower_bound = 0\n",
    "model.reactions.EX_ac_e_lower_bound = 10\n",
    "\n",
    "solution = model.optimize()\n",
    "print('growth rate: ', solution.objective_value)\n"
   ]
  },
  {
   "cell_type": "markdown",
   "metadata": {},
   "source": [
    "## Optional Visualizing flux distributions using Escher\n",
    "\n",
    "[Escher documentation](https://escher.readthedocs.io/en/latest/)\n",
    "\n",
    "Escher online WebApp: [https://escher.github.io/](https://escher.github.io/#/)"
   ]
  },
  {
   "cell_type": "code",
   "execution_count": null,
   "metadata": {
    "ExecuteTime": {
     "end_time": "2022-11-23T12:25:19.799912Z",
     "start_time": "2022-11-23T12:25:18.507022Z"
    }
   },
   "outputs": [],
   "source": [
    "import escher\n",
    "from escher import Builder\n",
    "\n",
    "# Lets crate a builder by passing our model as well a given map name to tell escher how to represent the network\n",
    "# Check the escher web to see other maps https://escher.github.io/#/\n",
    "builder = Builder(organism='Escherichia coli', map_name='iJO1366.Central metabolism')\n",
    "builder.reaction_data = solution.fluxes\n",
    "builder"
   ]
  },
  {
   "cell_type": "code",
   "execution_count": null,
   "metadata": {},
   "outputs": [],
   "source": [
    "# Add the optimal flux distribution to our map builder\n",
    "model.reactions.EX_o2_e_.lower_bound = -20\n",
    "model.reactions.EX_glc_e_.lower_bound = -10\n",
    "model.reactions.EX_ac_e_.lower_bound = 0\n",
    "\n",
    "\n",
    "gene =  model.genes.b0720\n",
    "with model:\n",
    "    gene.knock_out()\n",
    "    ko_solution = model.optimize()\n",
    "\n",
    "builder.reaction_data = ko_solution.fluxes\n",
    "builder"
   ]
  }
 ],
 "metadata": {
  "kernelspec": {
   "display_name": "cobra",
   "language": "python",
   "name": "python3"
  },
  "language_info": {
   "codemirror_mode": {
    "name": "ipython",
    "version": 3
   },
   "file_extension": ".py",
   "mimetype": "text/x-python",
   "name": "python",
   "nbconvert_exporter": "python",
   "pygments_lexer": "ipython3",
   "version": "3.10.5"
  },
  "latex_metadata": {
   "affiliation": "Barcelona Supercomputing Center, Barcelona Spain",
   "authors": "Miguel Ponce de Leon, Arnau Montagud",
   "title": "Constraint-based modelling tutorial"
  }
 },
 "nbformat": 4,
 "nbformat_minor": 1
}
